{
 "cells": [
  {
   "cell_type": "code",
   "execution_count": 3,
   "metadata": {},
   "outputs": [],
   "source": [
    "import numpy as np\n",
    "import cv2\n",
    "from matplotlib import pyplot as plt\n",
    "from ultralytics import YOLO"
   ]
  },
  {
   "cell_type": "code",
   "execution_count": 4,
   "metadata": {},
   "outputs": [
    {
     "name": "stderr",
     "output_type": "stream",
     "text": [
      "Ultralytics YOLOv8.0.147 🚀 Python-3.11.3 torch-2.0.1 CPU (Apple M1 Pro)\n",
      "Setup complete ✅ (10 CPUs, 16.0 GB RAM, 291.6/460.4 GB disk)\n"
     ]
    }
   ],
   "source": [
    "import ultralytics\n",
    "ultralytics.checks()"
   ]
  },
  {
   "cell_type": "code",
   "execution_count": 3,
   "metadata": {},
   "outputs": [
    {
     "name": "stdout",
     "output_type": "stream",
     "text": [
      "New https://pypi.org/project/ultralytics/8.0.149 available 😃 Update with 'pip install -U ultralytics'\n",
      "Ultralytics YOLOv8.0.147 🚀 Python-3.11.3 torch-2.0.1 CPU (Apple M1 Pro)\n",
      "\u001b[34m\u001b[1mengine/trainer: \u001b[0mtask=detect, mode=train, model=yolov8n.pt, data=../all_datasets/safetyvest.v7i.yolov8/data.yaml, epochs=30, patience=50, batch=16, imgsz=640, save=True, save_period=-1, cache=False, device=None, workers=8, project=None, name=None, exist_ok=False, pretrained=True, optimizer=auto, verbose=True, seed=0, deterministic=True, single_cls=False, rect=False, cos_lr=False, close_mosaic=10, resume=False, amp=True, fraction=1.0, profile=False, overlap_mask=True, mask_ratio=4, dropout=0.0, val=True, split=val, save_json=False, save_hybrid=False, conf=None, iou=0.7, max_det=300, half=False, dnn=False, plots=True, source=None, show=False, save_txt=False, save_conf=False, save_crop=False, show_labels=True, show_conf=True, vid_stride=1, line_width=None, visualize=False, augment=False, agnostic_nms=False, classes=None, retina_masks=False, boxes=True, format=torchscript, keras=False, optimize=False, int8=False, dynamic=False, simplify=False, opset=None, workspace=4, nms=False, lr0=0.01, lrf=0.01, momentum=0.937, weight_decay=0.0005, warmup_epochs=3.0, warmup_momentum=0.8, warmup_bias_lr=0.1, box=7.5, cls=0.5, dfl=1.5, pose=12.0, kobj=1.0, label_smoothing=0.0, nbs=64, hsv_h=0.015, hsv_s=0.7, hsv_v=0.4, degrees=0.0, translate=0.1, scale=0.5, shear=0.0, perspective=0.0, flipud=0.0, fliplr=0.5, mosaic=1.0, mixup=0.0, copy_paste=0.0, cfg=None, tracker=botsort.yaml, save_dir=/opt/homebrew/runs/detect/train12\n",
      "Overriding model.yaml nc=80 with nc=2\n",
      "\n",
      "                   from  n    params  module                                       arguments                     \n",
      "  0                  -1  1       464  ultralytics.nn.modules.conv.Conv             [3, 16, 3, 2]                 \n",
      "  1                  -1  1      4672  ultralytics.nn.modules.conv.Conv             [16, 32, 3, 2]                \n",
      "  2                  -1  1      7360  ultralytics.nn.modules.block.C2f             [32, 32, 1, True]             \n",
      "  3                  -1  1     18560  ultralytics.nn.modules.conv.Conv             [32, 64, 3, 2]                \n",
      "  4                  -1  2     49664  ultralytics.nn.modules.block.C2f             [64, 64, 2, True]             \n",
      "  5                  -1  1     73984  ultralytics.nn.modules.conv.Conv             [64, 128, 3, 2]               \n",
      "  6                  -1  2    197632  ultralytics.nn.modules.block.C2f             [128, 128, 2, True]           \n",
      "  7                  -1  1    295424  ultralytics.nn.modules.conv.Conv             [128, 256, 3, 2]              \n",
      "  8                  -1  1    460288  ultralytics.nn.modules.block.C2f             [256, 256, 1, True]           \n",
      "  9                  -1  1    164608  ultralytics.nn.modules.block.SPPF            [256, 256, 5]                 \n",
      " 10                  -1  1         0  torch.nn.modules.upsampling.Upsample         [None, 2, 'nearest']          \n",
      " 11             [-1, 6]  1         0  ultralytics.nn.modules.conv.Concat           [1]                           \n",
      " 12                  -1  1    148224  ultralytics.nn.modules.block.C2f             [384, 128, 1]                 \n",
      " 13                  -1  1         0  torch.nn.modules.upsampling.Upsample         [None, 2, 'nearest']          \n",
      " 14             [-1, 4]  1         0  ultralytics.nn.modules.conv.Concat           [1]                           \n",
      " 15                  -1  1     37248  ultralytics.nn.modules.block.C2f             [192, 64, 1]                  \n",
      " 16                  -1  1     36992  ultralytics.nn.modules.conv.Conv             [64, 64, 3, 2]                \n",
      " 17            [-1, 12]  1         0  ultralytics.nn.modules.conv.Concat           [1]                           \n",
      " 18                  -1  1    123648  ultralytics.nn.modules.block.C2f             [192, 128, 1]                 \n",
      " 19                  -1  1    147712  ultralytics.nn.modules.conv.Conv             [128, 128, 3, 2]              \n",
      " 20             [-1, 9]  1         0  ultralytics.nn.modules.conv.Concat           [1]                           \n",
      " 21                  -1  1    493056  ultralytics.nn.modules.block.C2f             [384, 256, 1]                 \n",
      " 22        [15, 18, 21]  1    751702  ultralytics.nn.modules.head.Detect           [2, [64, 128, 256]]           \n",
      "Model summary: 225 layers, 3011238 parameters, 3011222 gradients\n",
      "\n",
      "Transferred 319/355 items from pretrained weights\n",
      "\u001b[34m\u001b[1mTensorBoard: \u001b[0mStart with 'tensorboard --logdir /opt/homebrew/runs/detect/train12', view at http://localhost:6006/\n",
      "\u001b[34m\u001b[1mtrain: \u001b[0mScanning /Users/dogukan/repos/safety_ai/all_datasets/safetyvest.v7i.yolov\u001b[0m\n",
      "\u001b[34m\u001b[1mtrain: \u001b[0mNew cache created: /Users/dogukan/repos/safety_ai/all_datasets/safetyvest.v7i.yolov8/train/labels.cache\n",
      "\u001b[34m\u001b[1mval: \u001b[0mScanning /Users/dogukan/repos/safety_ai/all_datasets/safetyvest.v7i.yolov8/\u001b[0m\n",
      "\u001b[34m\u001b[1mval: \u001b[0mNew cache created: /Users/dogukan/repos/safety_ai/all_datasets/safetyvest.v7i.yolov8/valid/labels.cache\n",
      "Plotting labels to /opt/homebrew/runs/detect/train12/labels.jpg... \n",
      "\u001b[34m\u001b[1moptimizer:\u001b[0m AdamW(lr=0.001667, momentum=0.9) with parameter groups 57 weight(decay=0.0), 64 weight(decay=0.0005), 63 bias(decay=0.0)\n",
      "Image sizes 640 train, 640 val\n",
      "Using 0 dataloader workers\n",
      "Logging results to \u001b[1m/opt/homebrew/runs/detect/train12\u001b[0m\n",
      "Starting training for 30 epochs...\n",
      "\n",
      "      Epoch    GPU_mem   box_loss   cls_loss   dfl_loss  Instances       Size\n",
      "       1/30         0G      1.368      2.086      1.414         40        640: 1\n",
      "                 Class     Images  Instances      Box(P          R      mAP50  m\n",
      "                   all        779       1649      0.692      0.591      0.654      0.319\n",
      "\n",
      "      Epoch    GPU_mem   box_loss   cls_loss   dfl_loss  Instances       Size\n",
      "       2/30         0G        1.4      1.612      1.388         38        640: 1\n",
      "                 Class     Images  Instances      Box(P          R      mAP50  m\n",
      "                   all        779       1649      0.555      0.516      0.518      0.262\n",
      "\n",
      "      Epoch    GPU_mem   box_loss   cls_loss   dfl_loss  Instances       Size\n",
      "       3/30         0G      1.441      1.516      1.428         42        640: 1\n",
      "                 Class     Images  Instances      Box(P          R      mAP50  m\n",
      "                   all        779       1649      0.668      0.583      0.648      0.336\n",
      "\n",
      "      Epoch    GPU_mem   box_loss   cls_loss   dfl_loss  Instances       Size\n",
      "       4/30         0G      1.419      1.427      1.397         38        640: 1\n",
      "                 Class     Images  Instances      Box(P          R      mAP50  m\n",
      "                   all        779       1649      0.571      0.654      0.698      0.375\n",
      "\n",
      "      Epoch    GPU_mem   box_loss   cls_loss   dfl_loss  Instances       Size\n",
      "       5/30         0G      1.385      1.309      1.387         43        640: 1\n",
      "                 Class     Images  Instances      Box(P          R      mAP50  m\n",
      "                   all        779       1649      0.734      0.634      0.684      0.377\n",
      "\n",
      "      Epoch    GPU_mem   box_loss   cls_loss   dfl_loss  Instances       Size\n",
      "       6/30         0G      1.383       1.27      1.385         26        640: 1\n",
      "                 Class     Images  Instances      Box(P          R      mAP50  m\n",
      "                   all        779       1649      0.727      0.661      0.738      0.414\n",
      "\n",
      "      Epoch    GPU_mem   box_loss   cls_loss   dfl_loss  Instances       Size\n",
      "       7/30         0G      1.347      1.215      1.365         29        640: 1\n",
      "                 Class     Images  Instances      Box(P          R      mAP50  m\n",
      "                   all        779       1649      0.719      0.683      0.747      0.398\n",
      "\n",
      "      Epoch    GPU_mem   box_loss   cls_loss   dfl_loss  Instances       Size\n",
      "       8/30         0G      1.326      1.158      1.341         23        640: 1\n",
      "                 Class     Images  Instances      Box(P          R      mAP50  m\n",
      "                   all        779       1649      0.698      0.698      0.736      0.405\n",
      "\n",
      "      Epoch    GPU_mem   box_loss   cls_loss   dfl_loss  Instances       Size\n",
      "       9/30         0G      1.297      1.135      1.331         44        640: 1\n",
      "                 Class     Images  Instances      Box(P          R      mAP50  m\n",
      "                   all        779       1649      0.769      0.716      0.807      0.455\n",
      "\n",
      "      Epoch    GPU_mem   box_loss   cls_loss   dfl_loss  Instances       Size\n",
      "      10/30         0G      1.293      1.086       1.32         23        640: 1\n",
      "                 Class     Images  Instances      Box(P          R      mAP50  m\n",
      "                   all        779       1649      0.786      0.764      0.815      0.483\n",
      "\n",
      "      Epoch    GPU_mem   box_loss   cls_loss   dfl_loss  Instances       Size\n",
      "      11/30         0G      1.265      1.055      1.304         15        640: 1\n",
      "                 Class     Images  Instances      Box(P          R      mAP50  m\n",
      "                   all        779       1649      0.807      0.736      0.824      0.469\n",
      "\n",
      "      Epoch    GPU_mem   box_loss   cls_loss   dfl_loss  Instances       Size\n",
      "      12/30         0G      1.246      1.027      1.298         42        640: 1\n",
      "                 Class     Images  Instances      Box(P          R      mAP50  m\n",
      "                   all        779       1649      0.802      0.763       0.82      0.471\n",
      "\n",
      "      Epoch    GPU_mem   box_loss   cls_loss   dfl_loss  Instances       Size\n",
      "      13/30         0G      1.239      1.004      1.293         41        640: 1\n",
      "                 Class     Images  Instances      Box(P          R      mAP50  m\n",
      "                   all        779       1649      0.791      0.746      0.836      0.507\n",
      "\n",
      "      Epoch    GPU_mem   box_loss   cls_loss   dfl_loss  Instances       Size\n",
      "      14/30         0G      1.229     0.9738      1.282         49        640: 1\n",
      "                 Class     Images  Instances      Box(P          R      mAP50  m\n",
      "                   all        779       1649      0.801      0.772      0.833      0.498\n",
      "\n",
      "      Epoch    GPU_mem   box_loss   cls_loss   dfl_loss  Instances       Size\n",
      "      15/30         0G      1.199     0.9513      1.269         14        640: 1\n",
      "                 Class     Images  Instances      Box(P          R      mAP50  m\n",
      "                   all        779       1649      0.846      0.773      0.853      0.509\n",
      "\n",
      "      Epoch    GPU_mem   box_loss   cls_loss   dfl_loss  Instances       Size\n",
      "      16/30         0G      1.187     0.9146      1.253         47        640: 1\n",
      "                 Class     Images  Instances      Box(P          R      mAP50  m\n",
      "                   all        779       1649      0.806      0.785      0.847      0.515\n",
      "\n",
      "      Epoch    GPU_mem   box_loss   cls_loss   dfl_loss  Instances       Size\n",
      "      17/30         0G      1.181     0.9195       1.26         44        640: 1\n",
      "                 Class     Images  Instances      Box(P          R      mAP50  m\n",
      "                   all        779       1649      0.809        0.8      0.846      0.507\n",
      "\n",
      "      Epoch    GPU_mem   box_loss   cls_loss   dfl_loss  Instances       Size\n",
      "      18/30         0G       1.17     0.8863      1.245         28        640: 1\n",
      "                 Class     Images  Instances      Box(P          R      mAP50  m\n",
      "                   all        779       1649      0.833      0.792      0.867      0.522\n",
      "\n",
      "      Epoch    GPU_mem   box_loss   cls_loss   dfl_loss  Instances       Size\n",
      "      19/30         0G      1.136     0.8461      1.227         22        640: 1\n",
      "                 Class     Images  Instances      Box(P          R      mAP50  m\n",
      "                   all        779       1649      0.826      0.796      0.866      0.521\n",
      "\n",
      "      Epoch    GPU_mem   box_loss   cls_loss   dfl_loss  Instances       Size\n",
      "      20/30         0G      1.142     0.8387      1.228         24        640: 1\n",
      "                 Class     Images  Instances      Box(P          R      mAP50  m\n",
      "                   all        779       1649      0.829      0.793      0.857      0.524\n",
      "Closing dataloader mosaic\n",
      "\n",
      "      Epoch    GPU_mem   box_loss   cls_loss   dfl_loss  Instances       Size\n",
      "      21/30         0G      1.138     0.7649      1.227         13        640: 1\n",
      "                 Class     Images  Instances      Box(P          R      mAP50  m\n",
      "                   all        779       1649      0.819      0.798      0.852      0.523\n",
      "\n",
      "      Epoch    GPU_mem   box_loss   cls_loss   dfl_loss  Instances       Size\n",
      "      22/30         0G      1.113      0.728      1.216         12        640: 1\n",
      "                 Class     Images  Instances      Box(P          R      mAP50  m\n",
      "                   all        779       1649      0.841      0.806      0.875      0.531\n",
      "\n",
      "      Epoch    GPU_mem   box_loss   cls_loss   dfl_loss  Instances       Size\n",
      "      23/30         0G      1.089     0.7118      1.204         16        640: 1\n",
      "                 Class     Images  Instances      Box(P          R      mAP50  m\n",
      "                   all        779       1649      0.855      0.809      0.878      0.531\n",
      "\n",
      "      Epoch    GPU_mem   box_loss   cls_loss   dfl_loss  Instances       Size\n",
      "      24/30         0G      1.081     0.6856      1.202         16        640: 1\n",
      "                 Class     Images  Instances      Box(P          R      mAP50  m\n",
      "                   all        779       1649      0.856      0.817      0.886      0.546\n",
      "\n",
      "      Epoch    GPU_mem   box_loss   cls_loss   dfl_loss  Instances       Size\n",
      "      25/30         0G      1.066     0.6746      1.187         10        640: 1\n",
      "                 Class     Images  Instances      Box(P          R      mAP50  m\n",
      "                   all        779       1649      0.875      0.808      0.877      0.551\n",
      "\n",
      "      Epoch    GPU_mem   box_loss   cls_loss   dfl_loss  Instances       Size\n",
      "      26/30         0G       1.04     0.6489      1.177         20        640: 1\n",
      "                 Class     Images  Instances      Box(P          R      mAP50  m\n",
      "                   all        779       1649      0.871      0.825       0.89      0.554\n",
      "\n",
      "      Epoch    GPU_mem   box_loss   cls_loss   dfl_loss  Instances       Size\n",
      "      27/30         0G      1.035     0.6233      1.168         20        640: 1\n",
      "                 Class     Images  Instances      Box(P          R      mAP50  m\n",
      "                   all        779       1649       0.87      0.826      0.893      0.564\n",
      "\n",
      "      Epoch    GPU_mem   box_loss   cls_loss   dfl_loss  Instances       Size\n",
      "      28/30         0G       1.02     0.6048      1.162         20        640: 1\n",
      "                 Class     Images  Instances      Box(P          R      mAP50  m\n",
      "                   all        779       1649      0.871       0.83      0.897      0.569\n",
      "\n",
      "      Epoch    GPU_mem   box_loss   cls_loss   dfl_loss  Instances       Size\n",
      "      29/30         0G      1.001     0.5943      1.153         18        640: 1\n",
      "                 Class     Images  Instances      Box(P          R      mAP50  m\n",
      "                   all        779       1649      0.875      0.835      0.898      0.565\n",
      "\n",
      "      Epoch    GPU_mem   box_loss   cls_loss   dfl_loss  Instances       Size\n",
      "      30/30         0G     0.9924     0.5828      1.143         13        640: 1\n",
      "                 Class     Images  Instances      Box(P          R      mAP50  m\n",
      "                   all        779       1649      0.864      0.846      0.897      0.555\n",
      "\n",
      "30 epochs completed in 20.204 hours.\n",
      "Optimizer stripped from /opt/homebrew/runs/detect/train12/weights/last.pt, 6.2MB\n",
      "Optimizer stripped from /opt/homebrew/runs/detect/train12/weights/best.pt, 6.2MB\n",
      "\n",
      "Validating /opt/homebrew/runs/detect/train12/weights/best.pt...\n",
      "Ultralytics YOLOv8.0.147 🚀 Python-3.11.3 torch-2.0.1 CPU (Apple M1 Pro)\n",
      "Model summary (fused): 168 layers, 3006038 parameters, 0 gradients\n",
      "                 Class     Images  Instances      Box(P          R      mAP50  m\n",
      "                   all        779       1649      0.871       0.83      0.897      0.568\n",
      "               no-vest        779        362      0.864      0.828      0.881      0.494\n",
      "                  vest        779       1287      0.879      0.832      0.912      0.643\n",
      "Speed: 0.6ms preprocess, 144.9ms inference, 0.0ms loss, 0.3ms postprocess per image\n",
      "Results saved to \u001b[1m/opt/homebrew/runs/detect/train12\u001b[0m\n"
     ]
    }
   ],
   "source": [
    "#!yolo task=detect mode=train model=yolov8n.pt data=../all_datasets/data_V/data.yaml epochs=30 imgsz=640 save=True"
   ]
  },
  {
   "cell_type": "code",
   "execution_count": 26,
   "metadata": {},
   "outputs": [],
   "source": [
    "from PIL import Image\n",
    "imageFromCDataset = \"../localTesting/video3_9.jpg\"\n",
    "imageFromVDataset = \"../localTesting/fromModelVValid.jpg\"\n",
    "independentCameraView = \"../localTesting/independent_camera.jpeg\""
   ]
  },
  {
   "cell_type": "code",
   "execution_count": 27,
   "metadata": {},
   "outputs": [],
   "source": [
    "modelV = YOLO(\"models/V/weights/V.pt\")\n",
    "modelC = YOLO(\"models/C/weights/C.pt\")"
   ]
  },
  {
   "cell_type": "code",
   "execution_count": 28,
   "metadata": {},
   "outputs": [
    {
     "name": "stderr",
     "output_type": "stream",
     "text": [
      "\n",
      "image 1/1 /Users/dogukan/repos/safety_ai/object_detector_model_training/../localTesting/video3_9.jpg: 640x224 1 vest, 35.0ms\n",
      "Speed: 1.1ms preprocess, 35.0ms inference, 0.7ms postprocess per image at shape (1, 3, 640, 224)\n",
      "Results saved to \u001b[1m/opt/homebrew/runs/detect/predict9\u001b[0m\n",
      "\n",
      "image 1/1 /Users/dogukan/repos/safety_ai/object_detector_model_training/../localTesting/video3_9.jpg: 640x224 1 helmet, 1 vest, 35.5ms\n",
      "Speed: 1.0ms preprocess, 35.5ms inference, 0.5ms postprocess per image at shape (1, 3, 640, 224)\n",
      "Results saved to \u001b[1m/opt/homebrew/runs/detect/predict10\u001b[0m\n"
     ]
    }
   ],
   "source": [
    "# for an image from modelC's dataset (camera view),\n",
    "\n",
    "import torch\n",
    "with torch.no_grad():\n",
    "    resultsV = modelV(imageFromCDataset, save=True) # around 0.79 (trained with 'vest' images)\n",
    "    resultsC = modelC(imageFromCDataset, save=True) # around 0.86 (trained with camera view)\n"
   ]
  },
  {
   "cell_type": "markdown",
   "metadata": {},
   "source": []
  },
  {
   "cell_type": "code",
   "execution_count": 23,
   "metadata": {},
   "outputs": [
    {
     "name": "stderr",
     "output_type": "stream",
     "text": [
      "\n",
      "image 1/1 /Users/dogukan/repos/safety_ai/object_detector_model_training/../localTesting/fromModelVValid.jpg: 512x640 3 vests, 78.6ms\n",
      "Speed: 2.3ms preprocess, 78.6ms inference, 0.5ms postprocess per image at shape (1, 3, 512, 640)\n",
      "Results saved to \u001b[1m/opt/homebrew/runs/detect/predict7\u001b[0m\n",
      "\n",
      "image 1/1 /Users/dogukan/repos/safety_ai/object_detector_model_training/../localTesting/fromModelVValid.jpg: 512x640 2 vests, 59.2ms\n",
      "Speed: 2.0ms preprocess, 59.2ms inference, 0.4ms postprocess per image at shape (1, 3, 512, 640)\n",
      "Results saved to \u001b[1m/opt/homebrew/runs/detect/predict8\u001b[0m\n"
     ]
    },
    {
     "name": "stdout",
     "output_type": "stream",
     "text": [
      "tensor([0.7937, 0.7465, 0.3282])\n"
     ]
    }
   ],
   "source": [
    "# for an image from modelV's dataset (camera view),\n",
    "\n",
    "import torch\n",
    "with torch.no_grad():\n",
    "    resultsV = modelV(imageFromVDataset, save=True) # detected 3 vests\n",
    "    resultsC = modelC(imageFromVDataset, save=True) # vests (3) are not detected"
   ]
  },
  {
   "cell_type": "code",
   "execution_count": 30,
   "metadata": {},
   "outputs": [
    {
     "name": "stdout",
     "output_type": "stream",
     "text": [
      "tensor([0.7937, 0.7465, 0.3282])\n"
     ]
    }
   ],
   "source": [
    "print(resultsV[0].boxes.conf)"
   ]
  },
  {
   "cell_type": "code",
   "execution_count": 32,
   "metadata": {},
   "outputs": [
    {
     "name": "stderr",
     "output_type": "stream",
     "text": [
      "\n",
      "image 1/1 /Users/dogukan/repos/safety_ai/object_detector_model_training/../localTesting/independent_camera.jpeg: 352x640 8 vests, 65.5ms\n",
      "Speed: 3.9ms preprocess, 65.5ms inference, 2.2ms postprocess per image at shape (1, 3, 352, 640)\n",
      "Results saved to \u001b[1m/opt/homebrew/runs/detect/predict9\u001b[0m\n",
      "\n",
      "image 1/1 /Users/dogukan/repos/safety_ai/object_detector_model_training/../localTesting/independent_camera.jpeg: 352x640 (no detections), 49.2ms\n",
      "Speed: 1.8ms preprocess, 49.2ms inference, 0.2ms postprocess per image at shape (1, 3, 352, 640)\n",
      "Results saved to \u001b[1m/opt/homebrew/runs/detect/predict10\u001b[0m\n"
     ]
    }
   ],
   "source": [
    "\n",
    "# a prediction on an external image\n",
    "import torch\n",
    "with torch.no_grad():\n",
    "    resultsV = modelV(independentCameraView, save=True)\n",
    "    resultsC = modelC(independentCameraView, save=True) \n",
    "\n",
    "# model V detected 8/10 vests for a new camera view; with confidences between 0.4-0.79 (hiqh quality, not cropped image)\n",
    "# model C not detected any..."
   ]
  },
  {
   "cell_type": "code",
   "execution_count": 34,
   "metadata": {},
   "outputs": [],
   "source": [
    "# these results implies that a model with a combined dataset (C and V) would work more efficient in general. \n",
    "# ModelC by it's own, is not enough. \n",
    "# ModelV works fine in general, but since this is the main usage logic of our program, it should be tested on cropped camera images as well."
   ]
  },
  {
   "cell_type": "code",
   "execution_count": null,
   "metadata": {},
   "outputs": [],
   "source": []
  }
 ],
 "metadata": {
  "kernelspec": {
   "display_name": "Python 3",
   "language": "python",
   "name": "python3"
  },
  "language_info": {
   "codemirror_mode": {
    "name": "ipython",
    "version": 3
   },
   "file_extension": ".py",
   "mimetype": "text/x-python",
   "name": "python",
   "nbconvert_exporter": "python",
   "pygments_lexer": "ipython3",
   "version": "3.11.3"
  },
  "orig_nbformat": 4
 },
 "nbformat": 4,
 "nbformat_minor": 2
}
