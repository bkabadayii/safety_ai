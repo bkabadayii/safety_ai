{
 "cells": [
  {
   "cell_type": "code",
   "execution_count": 1,
   "metadata": {},
   "outputs": [],
   "source": [
    "import numpy as np\n",
    "import cv2"
   ]
  },
  {
   "cell_type": "code",
   "execution_count": 12,
   "metadata": {},
   "outputs": [
    {
     "name": "stdout",
     "output_type": "stream",
     "text": [
      "0 0\n",
      "0 1\n",
      "1 2\n",
      "1 3\n",
      "1 4\n",
      "1 5\n",
      "2 6\n",
      "1 7\n"
     ]
    }
   ],
   "source": [
    "face_cascade = cv2.CascadeClassifier('../xml_files/haarcascade_frontalface_default.xml')\n",
    "\n",
    "for i in range(8):\n",
    "    # FACE AND HELMET CROP:\n",
    "\n",
    "    # Load the image and convert it to grayscale\n",
    "    image = cv2.imread(f'../data/data{i}.jpg')\n",
    "    gray = cv2.cvtColor(image, cv2.COLOR_BGR2GRAY)\n",
    "\n",
    "    # Detect faces in the image\n",
    "    faces = face_cascade.detectMultiScale(gray, 1.3, 5)\n",
    "\n",
    "    # Iterate over the detected faces\n",
    "    count = 1\n",
    "    print(len(faces), i)\n",
    "    for (x,y,w,h) in faces:\n",
    "        # Crop the image 20 cm above the face\n",
    "        y_offset = int(0.5 * h)  # 20 cm above the face\n",
    "        crop_img = image[y-y_offset:y+h, x:x+w]\n",
    "\n",
    "        # Save the cropped image to a file\n",
    "        try:\n",
    "            cv2.imwrite(f'../data/train{i}_{count}_helmet.jpg', crop_img)\n",
    "        except:\n",
    "            pass\n",
    "        count += 1\n"
   ]
  },
  {
   "cell_type": "code",
   "execution_count": null,
   "metadata": {},
   "outputs": [],
   "source": [
    "face_cascade = cv2.CascadeClassifier('../xml_files/haarcascade_frontalface_default.xml')\n",
    "\n",
    "while True:\n",
    "    # FACE AND HELMET CROP:\n",
    "\n",
    "    # cam\n",
    "    camera = cv2.VideoCapture(0)\n",
    "    # Load the image and convert it to grayscale\n",
    "    ret, image = camera.read()\n",
    "    \n",
    "    # Resize the raw image into (224-height,224-width) pixels.\n",
    "    image = cv2.resize(image, (224, 224), interpolation=cv2.INTER_AREA)\n",
    "    gray = cv2.cvtColor(image, cv2.COLOR_BGR2GRAY)\n",
    "\n",
    "    # Detect faces in the image\n",
    "    faces = face_cascade.detectMultiScale(gray, 1.3, 5)\n",
    "\n",
    "    # Iterate over the detected faces\n",
    "    count = 1\n",
    "    print(len(faces), i)\n",
    "    for (x,y,w,h) in faces:\n",
    "        # Crop the image 20 cm above the face\n",
    "        y_offset = int(0.5 * h)  # 20 cm above the face\n",
    "        crop_img = image[y-y_offset:y+h, x:x+w]\n",
    "\n",
    "        # Save the cropped image to a file\n",
    "        try:\n",
    "            cv2.imwrite(f'../data/train{i}_{count}_helmet.jpg', crop_img)\n",
    "        except:\n",
    "            pass\n",
    "        count += 1\n",
    "    "
   ]
  }
 ],
 "metadata": {
  "kernelspec": {
   "display_name": "Python 3.10.7 64-bit",
   "language": "python",
   "name": "python3"
  },
  "language_info": {
   "codemirror_mode": {
    "name": "ipython",
    "version": 3
   },
   "file_extension": ".py",
   "mimetype": "text/x-python",
   "name": "python",
   "nbconvert_exporter": "python",
   "pygments_lexer": "ipython3",
   "version": "3.10.7"
  },
  "orig_nbformat": 4,
  "vscode": {
   "interpreter": {
    "hash": "aee8b7b246df8f9039afb4144a1f6fd8d2ca17a180786b69acc140d282b71a49"
   }
  }
 },
 "nbformat": 4,
 "nbformat_minor": 2
}
